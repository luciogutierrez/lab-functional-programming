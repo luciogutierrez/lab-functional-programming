{
 "cells": [
  {
   "cell_type": "markdown",
   "metadata": {},
   "source": [
    "Now we want to enhance the `get_bow_from_docs` function so that it will work with HTML webpages. In HTML, there are a lot of messy codes such as HTML tags, Javascripts, [unicodes](https://www.w3schools.com/charsets/ref_utf_misc_symbols.asp) that will mess up your bag of words. We need to clean up those junk before generating BoW.\n",
    "\n",
    "Next, what you will do is to define several new functions each of which is specialized to clean up the HTML codes in one aspect. For instance, you can have a `strip_html_tags` function to remove all HTML tags, a `remove_punctuation` function to remove all punctuation, a `to_lower_case` function to convert string to lowercase, and a `remove_unicode` function to remove all unicodes.\n",
    "\n",
    "Then in your `get_bow_from_doc` function, you will call each of those functions you created to clean up the HTML before you generate the corpus.\n",
    "\n",
    "Note: Please use Python string operations and regular expression only in this lab. Do not use extra libraries such as `beautifulsoup` because otherwise you loose the purpose of practicing."
   ]
  },
  {
   "cell_type": "code",
   "execution_count": 3,
   "metadata": {},
   "outputs": [],
   "source": [
    "# Import libraries\n",
    "import pandas as pd\n",
    "import re"
   ]
  },
  {
   "cell_type": "code",
   "execution_count": 4,
   "metadata": {},
   "outputs": [],
   "source": [
    "# Load html file\n",
    "html_list = []\n",
    "for line in open('./www.lipsum.com.html'):\n",
    "    html_list.append(line)\n"
   ]
  },
  {
   "cell_type": "code",
   "execution_count": 7,
   "metadata": {},
   "outputs": [],
   "source": [
    "# Define your string handling functions below\n",
    "# Minimal 3 functions\n",
    "def get_bag_of_words(text, stop_words=[]):\n",
    "    bag_of_words = []\n",
    "    pattern = re.compile(r'\\W+')\n",
    "    words = pattern.split(text)\n",
    "    for word in words:\n",
    "        if word not in bag_of_words:\n",
    "            if len(word)>1:\n",
    "                bag_of_words.append(word)\n",
    "    return bag_of_words\n",
    "\n",
    "def get_bow_from_docs(docs, stop_words=[]):\n",
    "    term_freq = []\n",
    "    bag_of_words = []\n",
    "    for doc in docs:\n",
    "        bag_words = get_bag_of_words(doc)\n",
    "        word_freq = []\n",
    "        for word in bag_words:\n",
    "            if word in doc:\n",
    "                word_freq.append(doc.count(word))\n",
    "        bag_of_words.append(bag_words)\n",
    "    return bag_of_words"
   ]
  },
  {
   "cell_type": "markdown",
   "metadata": {},
   "source": [
    "Next, paste your previously written `get_bow_from_docs` function below. Call your functions above at the appropriate place."
   ]
  },
  {
   "cell_type": "code",
   "execution_count": 8,
   "metadata": {
    "tags": []
   },
   "outputs": [
    {
     "output_type": "stream",
     "name": "stdout",
     "text": [
      "[[], ['DOCTYPE', 'html'], ['html', 'lang', 'en'], ['head'], ['title', 'Lorem', 'Ipsum', 'All', 'the', 'facts', 'Lipsum', 'generator'], ['meta', 'name', 'keywords', 'content', 'Lorem', 'Ipsum', 'Lipsum', 'Text', 'Generate', 'Generator', 'Facts', 'Information', 'What', 'Why', 'Where', 'Dummy', 'Typesetting', 'Printing', 'de', 'Finibus', 'Bonorum', 'et', 'Malorum', 'Extremes', 'of', 'Good', 'and', 'Evil', 'Cicero', 'Latin', 'Garbled', 'Scrambled', 'ipsum', 'dolor', 'sit', 'amet', 'consectetur', 'adipiscing', 'elit', 'sed', 'eiusmod', 'tempor', 'incididunt'], ['meta', 'name', 'description', 'content', 'Reference', 'site', 'about', 'Lorem', 'Ipsum', 'giving', 'information', 'on', 'its', 'origins', 'as', 'well', 'random', 'Lipsum', 'generator'], ['meta', 'name', 'viewport', 'content', 'width', 'device', 'initial', 'scale'], ['meta', 'http', 'equiv', 'content', 'type', 'text', 'html', 'charset', 'utf'], ['script', 'type', 'text', 'javascript', 'src', 'static', 'amp', 'services', 'clients', 'StreamAMP', 'Lipsum', 'js'], ['link', 'rel', 'icon', 'type', 'image', 'href', 'favicon', 'ico'], ['link', 'rel', 'stylesheet', 'type', 'text', 'css', 'href', '020617'], ['head'], ['body'], ['div', 'id', 'Outer'], [], ['div', 'class', 'banner', 'id', 'gpt', 'ad', '1456148316198'], ['script', 'type', 'text', 'javascript', 'googletag', 'cmd', 'push', 'function', 'display', 'div', 'gpt', 'ad', '1456148316198'], ['div'], [], ['div', 'id', 'Inner'], [], ['div', 'id', 'Languages', 'class', 'hy', 'href', 'http', 'lipsum', 'com', '1344', '1377', '1397', '1381', '1408', '1398', 'sq', 'Shqip', 'span', 'ltr', 'dir', 'xx', 'ar', 'img', 'src', 'images', 'gif', 'width', '18', 'height', '12', 'alt', '8235', '1575', '1604', '1593', '1585', '1576', '1610', '1577', 'nbsp', 'bg', '1041', '1098', '1083', '1075', '1072', '1088', '1089', '1082', '1080', 'ca', 'Catal', 'agrave', 'cn', '20013', '25991', '31616', '20307', 'hr', 'Hrvatski', 'cs', '268', 'esky', 'da', 'Dansk', 'nl', 'Nederlands', 'en', 'zz', 'www', 'English', 'et', 'Eesti', 'ph', 'Filipino', 'fi', 'Suomi', 'fr', 'Fran', 'ccedil', 'ais', 'ka', '4325', '4304', '4320', '4311', '4323', '4314', '4312', 'de', 'Deutsch', 'el', '917', '955', '951', '957', '953', '954', '940', 'he', '1506', '1489', '1512', '1497', '1514', 'hi', '2361', '2367', '2344', '2381', '2342', '2368', 'hu', 'Magyar', 'Indonesia', 'it', 'Italiano', 'lv', 'Latviski', 'lt', 'Lietuvi', 'scaron', 'kai', 'mk', '1084', '1077', '1076', '1086', '1085', 'ms', 'Melayu', 'no', 'Norsk', 'pl', 'Polski', 'pt', 'Portugu', 'ecirc', 'ro', 'Rom', 'acirc', 'na', 'ru', 'Pycc', '1081', 'sr', '1057', '1087', 'sk', 'Sloven', '269', 'ina', 'sl', '353', 'es', 'Espa', 'ntilde', 'ol', 'sv', 'Svenska', 'th', '3652', '3607', '3618', 'tr', 'uuml', 'rk', 'uk', '1059', '1111', '1100', 'vi', 'Ti', '7871', 'ng', 'Vi', '7879'], [], ['h1', 'Lorem', 'Ipsum'], ['h4', 'Neque', 'porro', 'quisquam', 'est', 'qui', 'dolorem', 'ipsum', 'quia', 'dolor', 'sit', 'amet', 'consectetur', 'adipisci', 'velit'], ['h5', 'There', 'is', 'no', 'one', 'who', 'loves', 'pain', 'itself', 'seeks', 'after', 'it', 'and', 'wants', 'to', 'have', 'simply', 'because'], [], [], ['hr'], [], ['div', 'id', 'Content'], ['div', 'id', 'Panes'], ['h2', 'What', 'is', 'Lorem', 'Ipsum'], ['strong', 'Lorem', 'Ipsum', 'is', 'simply', 'dummy', 'text', 'of', 'the', 'printing', 'and', 'typesetting', 'industry', 'has', 'been', 'standard', 'ever', 'since', '1500s', 'when', 'an', 'unknown', 'printer', 'took', 'galley', 'type', 'scrambled', 'it', 'to', 'make', 'specimen', 'book', 'It', 'survived', 'not', 'only', 'five', 'centuries', 'but', 'also', 'leap', 'into', 'electronic', 'remaining', 'essentially', 'unchanged', 'was', 'popularised', 'in', '1960s', 'with', 'release', 'Letraset', 'sheets', 'containing', 'passages', 'more', 'recently', 'desktop', 'publishing', 'software', 'like', 'Aldus', 'PageMaker', 'including', 'versions'], ['div'], ['h2', 'Why', 'do', 'we', 'use', 'it'], ['It', 'is', 'long', 'established', 'fact', 'that', 'reader', 'will', 'be', 'distracted', 'by', 'the', 'readable', 'content', 'of', 'page', 'when', 'looking', 'at', 'its', 'layout', 'The', 'point', 'using', 'Lorem', 'Ipsum', 'it', 'has', 'more', 'or', 'less', 'normal', 'distribution', 'letters', 'as', 'opposed', 'to', 'Content', 'here', 'making', 'look', 'like', 'English', 'Many', 'desktop', 'publishing', 'packages', 'and', 'web', 'editors', 'now', 'use', 'their', 'default', 'model', 'text', 'search', 'for', 'lorem', 'ipsum', 'uncover', 'many', 'sites', 'still', 'in', 'infancy', 'Various', 'versions', 'have', 'evolved', 'over', 'years', 'sometimes', 'accident', 'on', 'purpose', 'injected', 'humour'], ['div', 'br'], ['h2', 'Where', 'does', 'it', 'come', 'from'], ['Contrary', 'to', 'popular', 'belief', 'Lorem', 'Ipsum', 'is', 'not', 'simply', 'random', 'text', 'It', 'has', 'roots', 'in', 'piece', 'of', 'classical', 'Latin', 'literature', 'from', '45', 'BC', 'making', 'it', 'over', '2000', 'years', 'old', 'Richard', 'McClintock', 'professor', 'at', 'Hampden', 'Sydney', 'College', 'Virginia', 'looked', 'up', 'one', 'the', 'more', 'obscure', 'words', 'consectetur', 'passage', 'and', 'going', 'through', 'cites', 'word', 'discovered', 'undoubtable', 'source', 'comes', 'sections', '10', '32', '33', 'de', 'Finibus', 'Bonorum', 'et', 'Malorum', 'The', 'Extremes', 'Good', 'Evil', 'by', 'Cicero', 'written', 'This', 'book', 'treatise', 'on', 'theory', 'ethics', 'very', 'during', 'Renaissance', 'first', 'line', 'ipsum', 'dolor', 'sit', 'amet', 'section', 'standard', 'chunk', 'used', 'since', '1500s', 'reproduced', 'below', 'for', 'those', 'interested', 'Sections', 'are', 'also', 'their', 'exact', 'original', 'form', 'accompanied', 'English', 'versions', '1914', 'translation', 'Rackham'], ['div'], ['h2', 'Where', 'can', 'get', 'some'], ['There', 'are', 'many', 'variations', 'of', 'passages', 'Lorem', 'Ipsum', 'available', 'but', 'the', 'majority', 'have', 'suffered', 'alteration', 'in', 'some', 'form', 'by', 'injected', 'humour', 'or', 'randomised', 'words', 'which', 'don', 'look', 'even', 'slightly', 'believable', 'If', 'you', 'going', 'to', 'use', 'passage', 'need', 'be', 'sure', 'there', 'isn', 'anything', 'embarrassing', 'hidden', 'middle', 'text', 'All', 'generators', 'on', 'Internet', 'tend', 'repeat', 'predefined', 'chunks', 'as', 'necessary', 'making', 'this', 'first', 'true', 'generator', 'It', 'uses', 'dictionary', 'over', '200', 'Latin', 'combined', 'with', 'handful', 'model', 'sentence', 'structures', 'generate', 'looks', 'reasonable', 'The', 'generated', 'is', 'therefore', 'always', 'free', 'from', 'repetition', 'non', 'characteristic', 'etc'], ['form', 'method', 'post', 'action', 'feed', 'html', 'table', 'style', 'width', '100', 'tr', 'td', 'rowspan', 'input', 'type', 'text', 'name', 'amount', 'value', 'size', 'id', 'align', 'left', '20px', 'radio', 'what', 'paras', 'checked', 'label', 'for', 'paragraphs', 'words', 'bytes', 'lists', 'checkbox', 'start', 'yes', 'Start', 'with', 'Lorem', 'br', 'ipsum', 'dolor', 'sit', 'amet', 'submit', 'generate', 'Generate', 'Ipsum', 'div', 'hr', 'class', 'boxedTight', 'img', 'src', 'images', 'advert', 'png', 'alt', 'Advertise'], ['hr', 'div', 'class', 'boxed', 'style', 'color', 'ff0000', 'strong', 'Translations', 'Can', 'you', 'help', 'translate', 'this', 'site', 'into', 'foreign', 'language', 'Please', 'email', 'us', 'with', 'details', 'if', 'can'], [], ['hr', 'div', 'class', 'boxed', 'There', 'are', 'now', 'set', 'of', 'mock', 'banners', 'available', 'href', 'lnk', 'here', 'in', 'three', 'colours', 'and', 'range', 'standard', 'banner', 'sizes', 'br', 'img', 'src', 'images', 'black_234x60', 'gif', 'width', '234', 'height', '60', 'alt', 'Banners', 'grey_234x60', 'white_234x60'], [], ['hr', 'div', 'class', 'boxed', 'strong', 'Donate', 'If', 'you', 'use', 'this', 'site', 'regularly', 'and', 'would', 'like', 'to', 'help', 'keep', 'the', 'on', 'Internet', 'please', 'consider', 'donating', 'small', 'sum', 'pay', 'for', 'hosting', 'bandwidth', 'bill', 'There', 'is', 'no', 'minimum', 'donation', 'any', 'appreciated', 'click', 'target', '_blank', 'href', 'donate', 'lnk', 'here', 'using', 'PayPal', 'Thank', 'your', 'support'], [], ['hr', 'div', 'class', 'boxed', 'id', 'Packages'], ['target', '_blank', 'rel', 'nofollow', 'href', 'https', 'chrome', 'google', 'com', 'extensions', 'detail', 'jkkggolejkaoanbjnmkakgjcdcnpfkgi', 'Chrome'], ['target', '_blank', 'rel', 'nofollow', 'href', 'https', 'addons', 'mozilla', 'org', 'en', 'US', 'firefox', 'addon', 'dummy', 'lipsum', 'Firefox', 'Add', 'on'], ['target', '_blank', 'rel', 'nofollow', 'href', 'https', 'github', 'com', 'traviskaufman', 'node', 'lipsum', 'NodeJS'], ['target', '_blank', 'rel', 'nofollow', 'href', 'http', 'ftp', 'ktug', 'or', 'kr', 'tex', 'archive', 'help', 'Catalogue', 'entries', 'lipsum', 'html', 'TeX', 'Package'], ['target', '_blank', 'rel', 'nofollow', 'href', 'http', 'code', 'google', 'com', 'pypsum', 'Python', 'Interface'], ['target', '_blank', 'rel', 'nofollow', 'href', 'http', 'gtklipsum', 'sourceforge', 'net', 'GTK', 'Lipsum'], ['target', '_blank', 'rel', 'nofollow', 'href', 'http', 'github', 'com', 'gsavage', 'lorem_ipsum', 'tree', 'master', 'Rails'], ['target', '_blank', 'rel', 'nofollow', 'href', 'https', 'github', 'com', 'cerkit', 'LoremIpsum', 'NET'], ['target', '_blank', 'rel', 'nofollow', 'href', 'http', 'groovyconsole', 'appspot', 'com', 'script', '64002', 'Groovy'], ['target', '_blank', 'rel', 'nofollow', 'href', 'http', 'www', 'layerhero', 'com', 'lorem', 'ipsum', 'generator', 'Adobe', 'Plugin', 'div'], [], ['hr', 'div', 'id', 'Translation'], [], ['h3', 'The', 'standard', 'Lorem', 'Ipsum', 'passage', 'used', 'since', 'the', '1500s', 'ipsum', 'dolor', 'sit', 'amet', 'consectetur', 'adipiscing', 'elit', 'sed', 'do', 'eiusmod', 'tempor', 'incididunt', 'ut', 'labore', 'et', 'dolore', 'magna', 'aliqua', 'Ut', 'enim', 'ad', 'minim', 'veniam', 'quis', 'nostrud', 'exercitation', 'ullamco', 'laboris', 'nisi', 'aliquip', 'ex', 'ea', 'commodo', 'consequat', 'Duis', 'aute', 'irure', 'in', 'reprehenderit', 'voluptate', 'velit', 'esse', 'cillum', 'eu', 'fugiat', 'nulla', 'pariatur', 'Excepteur', 'sint', 'occaecat', 'cupidatat', 'non', 'proident', 'sunt', 'culpa', 'qui', 'officia', 'deserunt', 'mollit', 'anim', 'id', 'est', 'laborum', 'Section', '10', '32', 'of', 'de', 'Finibus', 'Bonorum', 'Malorum', 'written', 'by', 'Cicero', '45', 'BC', 'Sed', 'perspiciatis', 'unde', 'omnis', 'iste', 'natus', 'error', 'voluptatem', 'accusantium', 'doloremque', 'laudantium', 'totam', 'rem', 'aperiam', 'eaque', 'ipsa', 'quae', 'ab', 'illo', 'inventore', 'veritatis', 'quasi', 'architecto', 'beatae', 'vitae', 'dicta', 'explicabo', 'Nemo', 'ipsam', 'quia', 'voluptas', 'aspernatur', 'aut', 'odit', 'fugit', 'consequuntur', 'magni', 'dolores', 'eos', 'ratione', 'sequi', 'nesciunt', 'Neque', 'porro', 'quisquam', 'dolorem', 'adipisci', 'numquam', 'eius', 'modi', 'tempora', 'incidunt', 'magnam', 'aliquam', 'quaerat', 'minima', 'nostrum', 'exercitationem', 'ullam', 'corporis', 'suscipit', 'laboriosam', 'aliquid', 'commodi', 'consequatur', 'Quis', 'autem', 'vel', 'eum', 'iure', 'quam', 'nihil', 'molestiae', 'illum', 'quo'], ['h3', '1914', 'translation', 'by', 'Rackham'], ['But', 'must', 'explain', 'to', 'you', 'how', 'all', 'this', 'mistaken', 'idea', 'of', 'denouncing', 'pleasure', 'and', 'praising', 'pain', 'was', 'born', 'will', 'give', 'complete', 'account', 'the', 'system', 'expound', 'actual', 'teachings', 'great', 'explorer', 'truth', 'master', 'builder', 'human', 'happiness', 'No', 'one', 'rejects', 'dislikes', 'or', 'avoids', 'itself', 'because', 'it', 'is', 'but', 'those', 'who', 'do', 'not', 'know', 'pursue', 'rationally', 'encounter', 'consequences', 'that', 'are', 'extremely', 'painful', 'Nor', 'again', 'there', 'anyone', 'loves', 'pursues', 'desires', 'obtain', 'occasionally', 'circumstances', 'occur', 'in', 'which', 'toil', 'can', 'procure', 'him', 'some', 'To', 'take', 'trivial', 'example', 'us', 'ever', 'undertakes', 'laborious', 'physical', 'exercise', 'except', 'advantage', 'from', 'has', 'any', 'right', 'find', 'fault', 'with', 'man', 'chooses', 'enjoy', 'no', 'annoying', 'produces', 'resultant'], ['h3', 'Section', '10', '33', 'of', 'de', 'Finibus', 'Bonorum', 'et', 'Malorum', 'written', 'by', 'Cicero', 'in', '45', 'BC'], ['At', 'vero', 'eos', 'et', 'accusamus', 'iusto', 'odio', 'dignissimos', 'ducimus', 'qui', 'blanditiis', 'praesentium', 'voluptatum', 'deleniti', 'atque', 'corrupti', 'quos', 'dolores', 'quas', 'molestias', 'excepturi', 'sint', 'occaecati', 'cupiditate', 'non', 'provident', 'similique', 'sunt', 'in', 'culpa', 'officia', 'deserunt', 'mollitia', 'animi', 'id', 'est', 'laborum', 'dolorum', 'fuga', 'Et', 'harum', 'quidem', 'rerum', 'facilis', 'expedita', 'distinctio', 'Nam', 'libero', 'tempore', 'cum', 'soluta', 'nobis', 'eligendi', 'optio', 'cumque', 'nihil', 'impedit', 'quo', 'minus', 'quod', 'maxime', 'placeat', 'facere', 'possimus', 'omnis', 'voluptas', 'assumenda', 'dolor', 'repellendus', 'Temporibus', 'autem', 'quibusdam', 'aut', 'officiis', 'debitis', 'necessitatibus', 'saepe', 'eveniet', 'ut', 'voluptates', 'repudiandae', 'molestiae', 'recusandae', 'Itaque', 'earum', 'hic', 'tenetur', 'sapiente', 'delectus', 'reiciendis', 'voluptatibus', 'maiores', 'alias', 'consequatur', 'perferendis', 'doloribus', 'asperiores', 'repellat'], ['h3', '1914', 'translation', 'by', 'Rackham'], ['On', 'the', 'other', 'hand', 'we', 'denounce', 'with', 'righteous', 'indignation', 'and', 'dislike', 'men', 'who', 'are', 'so', 'beguiled', 'demoralized', 'by', 'charms', 'of', 'pleasure', 'moment', 'blinded', 'desire', 'that', 'they', 'cannot', 'foresee', 'pain', 'trouble', 'bound', 'to', 'ensue', 'equal', 'blame', 'belongs', 'those', 'fail', 'in', 'their', 'duty', 'through', 'weakness', 'will', 'which', 'is', 'same', 'as', 'saying', 'shrinking', 'from', 'toil', 'These', 'cases', 'perfectly', 'simple', 'easy', 'distinguish', 'In', 'free', 'hour', 'when', 'our', 'power', 'choice', 'untrammelled', 'nothing', 'prevents', 'being', 'able', 'do', 'what', 'like', 'best', 'every', 'be', 'welcomed', 'avoided', 'But', 'certain', 'circumstances', 'owing', 'claims', 'or', 'obligations', 'business', 'it', 'frequently', 'occur', 'pleasures', 'have', 'repudiated', 'annoyances', 'accepted', 'The', 'wise', 'man', 'therefore', 'always', 'holds', 'these', 'matters', 'this', 'principle', 'selection', 'he', 'rejects', 'secure', 'greater', 'else', 'endures', 'pains', 'avoid', 'worse'], ['div'], [], ['div', 'id', 'bannerL', 'gpt', 'ad', '1474537762122'], ['script', 'type', 'text', 'javascript', 'googletag', 'cmd', 'push', 'function', 'display', 'div', 'gpt', 'ad', '1474537762122'], ['div'], ['div', 'id', 'bannerR', 'gpt', 'ad', '1474537762122'], ['script', 'type', 'text', 'javascript', 'googletag', 'cmd', 'push', 'function', 'display', 'div', 'gpt', 'ad', '1474537762122'], ['div'], ['div'], [], ['hr'], [], ['div', 'class', 'boxed', 'style', 'text', 'decoration', 'none', 'href', '109', '97', '105', '108', '116', '111', '58', '104', '101', '112', '64', '115', '117', '46', '99', 'br', 'target', '_blank', 'privacy', 'pdf', 'Privacy', 'Policy'], [], [], [], ['div'], [], ['div', 'class', 'banner', 'id', 'gpt', 'ad', '1456148316198'], ['script', 'type', 'text', 'javascript', 'googletag', 'cmd', 'push', 'function', 'display', 'div', 'gpt', 'ad', '1456148316198'], ['div'], [], ['div'], [], ['Generated', 'in', '014', 'seconds'], ['body', 'html']]\n"
     ]
    }
   ],
   "source": [
    "# Define function\n",
    "print(get_bow_from_docs(html_list))"
   ]
  },
  {
   "cell_type": "markdown",
   "metadata": {},
   "source": [
    "Next, read the content from the three HTML webpages in the `your-codes` directory to test your function."
   ]
  },
  {
   "cell_type": "code",
   "execution_count": 3,
   "metadata": {},
   "outputs": [
    {
     "output_type": "stream",
     "name": "stdout",
     "text": [
      "{'bag_of_words': [['www', 'coursereport', 'com_ironhack', 'html'], ['en', 'wikipedia', 'org_Data_analysis', 'html'], ['www', 'lipsum', 'com', 'html']], 'term_freq': [[1, 1, 1, 1], [1, 1, 1, 1], [1, 1, 1, 1]]}\n"
     ]
    }
   ],
   "source": [
    "# from sklearn.feature_extraction import stop_words\n",
    "# text = p\n",
    "bow = get_bow_from_docs([\n",
    "        'www.coursereport.com_ironhack.html',\n",
    "        'en.wikipedia.org_Data_analysis.html',\n",
    "        'www.lipsum.com.html'\n",
    "    ],\n",
    "    # stop_words.ENGLISH_STOP_WORDS\n",
    ")\n",
    "\n",
    "print(bow)"
   ]
  },
  {
   "cell_type": "markdown",
   "metadata": {},
   "source": [
    "Do you see any problem in the output? How do you improve the output?\n",
    "\n",
    "A good way to improve your codes is to look into the HTML data sources and try to understand where the messy output came from. A good data analyst always learns about the data in depth in order to perform the job well.\n",
    "\n",
    "Spend 20-30 minutes to improve your functions or until you feel you are good at string operations. This lab is just a practice so you don't need to stress yourself out. If you feel you've practiced enough you can stop and move on the next challenge question."
   ]
  },
  {
   "cell_type": "code",
   "execution_count": null,
   "metadata": {},
   "outputs": [],
   "source": []
  }
 ],
 "metadata": {
  "kernelspec": {
   "name": "python391jvsc74a57bd0376f5b0795f81aa7b5d99e448d6274743a66c9892fd26cf11e505993f41df5fa",
   "display_name": "Python 3.9.1 64-bit"
  },
  "language_info": {
   "codemirror_mode": {
    "name": "ipython",
    "version": 3
   },
   "file_extension": ".py",
   "mimetype": "text/x-python",
   "name": "python",
   "nbconvert_exporter": "python",
   "pygments_lexer": "ipython3",
   "version": "3.9.1"
  }
 },
 "nbformat": 4,
 "nbformat_minor": 2
}