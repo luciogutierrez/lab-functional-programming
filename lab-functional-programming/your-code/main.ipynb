{
 "cells": [
  {
   "cell_type": "markdown",
   "metadata": {},
   "source": [
    "# Before your start:\n",
    "- Read the README.md file\n",
    "- Comment as much as you can and use the resources in the README.md file\n",
    "- Happy learning!"
   ]
  },
  {
   "cell_type": "code",
   "execution_count": 1,
   "metadata": {},
   "outputs": [],
   "source": [
    "import numpy as np\n",
    "import pandas as pd"
   ]
  },
  {
   "cell_type": "markdown",
   "metadata": {},
   "source": [
    "# Challenge 1 - Iterators, Generators and `yield`. \n",
    "\n",
    "In iterator in Python is an object that represents a stream of data. However, iterators contain a countable number of values. We traverse through the iterator and return one value at a time. All iterators support a `next` function that allows us to traverse through the iterator. We can create an iterator using the `iter` function that comes with the base package of Python. Below is an example of an iterator."
   ]
  },
  {
   "cell_type": "code",
   "execution_count": 2,
   "metadata": {},
   "outputs": [
    {
     "name": "stdout",
     "output_type": "stream",
     "text": [
      "1\n"
     ]
    }
   ],
   "source": [
    "# We first define our iterator:\n",
    "\n",
    "iterator = iter([1,2,3])\n",
    "\n",
    "# We can now iterate through the object using the next function\n",
    "\n",
    "print(next(iterator))"
   ]
  },
  {
   "cell_type": "code",
   "execution_count": 3,
   "metadata": {},
   "outputs": [
    {
     "name": "stdout",
     "output_type": "stream",
     "text": [
      "2\n"
     ]
    }
   ],
   "source": [
    "# We continue to iterate through the iterator.\n",
    "\n",
    "print(next(iterator))"
   ]
  },
  {
   "cell_type": "code",
   "execution_count": 4,
   "metadata": {},
   "outputs": [
    {
     "name": "stdout",
     "output_type": "stream",
     "text": [
      "3\n"
     ]
    }
   ],
   "source": [
    "print(next(iterator))"
   ]
  },
  {
   "cell_type": "code",
   "execution_count": 5,
   "metadata": {},
   "outputs": [
    {
     "ename": "StopIteration",
     "evalue": "",
     "output_type": "error",
     "traceback": [
      "\u001b[1;31m---------------------------------------------------------------------------\u001b[0m",
      "\u001b[1;31mStopIteration\u001b[0m                             Traceback (most recent call last)",
      "\u001b[1;32m<ipython-input-5-91070dc82d50>\u001b[0m in \u001b[0;36m<module>\u001b[1;34m()\u001b[0m\n\u001b[0;32m      1\u001b[0m \u001b[1;31m# After we have iterated through all elements, we will get a StopIteration Error\u001b[0m\u001b[1;33m\u001b[0m\u001b[1;33m\u001b[0m\u001b[0m\n\u001b[0;32m      2\u001b[0m \u001b[1;33m\u001b[0m\u001b[0m\n\u001b[1;32m----> 3\u001b[1;33m \u001b[0mprint\u001b[0m\u001b[1;33m(\u001b[0m\u001b[0mnext\u001b[0m\u001b[1;33m(\u001b[0m\u001b[0miterator\u001b[0m\u001b[1;33m)\u001b[0m\u001b[1;33m)\u001b[0m\u001b[1;33m\u001b[0m\u001b[0m\n\u001b[0m",
      "\u001b[1;31mStopIteration\u001b[0m: "
     ]
    }
   ],
   "source": [
    "# After we have iterated through all elements, we will get a StopIteration Error\n",
    "\n",
    "print(next(iterator))"
   ]
  },
  {
   "cell_type": "code",
   "execution_count": 6,
   "metadata": {},
   "outputs": [
    {
     "name": "stdout",
     "output_type": "stream",
     "text": [
      "1\n",
      "2\n",
      "3\n"
     ]
    }
   ],
   "source": [
    "# We can also iterate through an iterator using a for loop like this:\n",
    "# Note: we cannot go back directly in an iterator once we have traversed through the elements. \n",
    "# This is why we are redefining the iterator below\n",
    "\n",
    "iterator = iter([1,2,3])\n",
    "\n",
    "for i in iterator:\n",
    "    print(i)"
   ]
  },
  {
   "cell_type": "markdown",
   "metadata": {},
   "source": [
    "In the cell below, write a function that takes an iterator and returns the first element in the iterator and returns the first element in the iterator that is divisible by 2. Assume that all iterators contain only numeric data. If we have not found a single element that is divisible by 2, return zero."
   ]
  },
  {
   "cell_type": "code",
   "execution_count": 10,
   "metadata": {},
   "outputs": [
    {
     "output_type": "execute_result",
     "data": {
      "text/plain": [
       "2"
      ]
     },
     "metadata": {},
     "execution_count": 10
    }
   ],
   "source": [
    "def divisible2(iterator):\n",
    "    # This function takes an iterable and returns the first element that is divisible by 2 and zero otherwise\n",
    "    # Input: Iterable\n",
    "    # Output: Integer\n",
    "    \n",
    "    # Sample Input: iter([1,2,3])\n",
    "    # Sample Output: 2\n",
    "    \n",
    "    # Your code here:\n",
    "    for val_iter in iterator:\n",
    "        if val_iter%2 == 0:\n",
    "            y = val_iter\n",
    "            break\n",
    "        else:\n",
    "            y = 0\n",
    "    return y\n",
    "\n",
    "iterator = iter([1,2,3])\n",
    "divisible2(iterator)\n",
    "    "
   ]
  },
  {
   "cell_type": "markdown",
   "metadata": {},
   "source": [
    "### Generators\n",
    "\n",
    "It is quite difficult to create your own iterator since you would have to implement a `next` function. Generators are functions that enable us to create iterators. The difference between a function and a generator is that instead of using `return`, we use `yield`. For example, below we have a function that returns an iterator containing the numbers 0 through n:"
   ]
  },
  {
   "cell_type": "code",
   "execution_count": 11,
   "metadata": {},
   "outputs": [],
   "source": [
    "def firstn(n):\n",
    "     number = 0\n",
    "     while number < n:\n",
    "         yield number"
   ]
  },
  {
   "cell_type": "markdown",
   "metadata": {},
   "source": [
    "If we pass 5 to the function, we will see that we have a iterator containing the numbers 0 through 4."
   ]
  },
  {
   "cell_type": "code",
   "execution_count": 12,
   "metadata": {},
   "outputs": [
    {
     "output_type": "stream",
     "name": "stdout",
     "text": [
      "0\n1\n2\n3\n4\n"
     ]
    }
   ],
   "source": [
    "iterator = firstn(5)\n",
    "\n",
    "for i in iterator:\n",
    "    print(i)"
   ]
  },
  {
   "cell_type": "markdown",
   "metadata": {},
   "source": [
    "In the cell below, create a generator that takes a number and returns an iterator containing all even numbers between 0 and the number you passed to the generator."
   ]
  },
  {
   "cell_type": "code",
   "execution_count": 31,
   "metadata": {},
   "outputs": [
    {
     "output_type": "stream",
     "name": "stdout",
     "text": [
      "iter([0,2,4])\n"
     ]
    }
   ],
   "source": [
    "def even_iterator(n):\n",
    "    # This function produces an iterator containing all even numbers between 0 and n\n",
    "    # Input: integer\n",
    "    # Output: iterator\n",
    "\n",
    "    # Sample Input: 5\n",
    "    # Sample Output: iter([0, 2, 4])\n",
    "\n",
    "    # Your code here:\n",
    "    iterator = 'iter(['\n",
    "    i = 0\n",
    "    while i < n:\n",
    "        iterator += str(i)\n",
    "        if i < n-1:\n",
    "            iterator += ','\n",
    "        i += 2\n",
    "    iterator += '])'\n",
    "    return iterator\n",
    "\n",
    "print(even_iterator(5))\n"
   ]
  },
  {
   "cell_type": "markdown",
   "metadata": {},
   "source": [
    "# Challenge 2 - Applying Functions to DataFrames\n",
    "\n",
    "In this challenge, we will look at how to transform cells or entire columns at once.\n",
    "\n",
    "First, let's load a dataset. We will download the famous Iris classification dataset in the cell below."
   ]
  },
  {
   "cell_type": "code",
   "execution_count": 33,
   "metadata": {},
   "outputs": [],
   "source": [
    "import pandas as pd\n",
    "columns = ['sepal_length', 'sepal_width', 'petal_length','petal_width','iris_type']\n",
    "iris = pd.read_csv(\"https://archive.ics.uci.edu/ml/machine-learning-databases/iris/iris.data\", names=columns)"
   ]
  },
  {
   "cell_type": "markdown",
   "metadata": {},
   "source": [
    "Let's look at the dataset using the `head` function."
   ]
  },
  {
   "cell_type": "code",
   "execution_count": 34,
   "metadata": {},
   "outputs": [
    {
     "output_type": "execute_result",
     "data": {
      "text/plain": [
       "   sepal_length  sepal_width  petal_length  petal_width    iris_type\n",
       "0           5.1          3.5           1.4          0.2  Iris-setosa\n",
       "1           4.9          3.0           1.4          0.2  Iris-setosa\n",
       "2           4.7          3.2           1.3          0.2  Iris-setosa\n",
       "3           4.6          3.1           1.5          0.2  Iris-setosa\n",
       "4           5.0          3.6           1.4          0.2  Iris-setosa\n",
       "5           5.4          3.9           1.7          0.4  Iris-setosa\n",
       "6           4.6          3.4           1.4          0.3  Iris-setosa\n",
       "7           5.0          3.4           1.5          0.2  Iris-setosa\n",
       "8           4.4          2.9           1.4          0.2  Iris-setosa\n",
       "9           4.9          3.1           1.5          0.1  Iris-setosa"
      ],
      "text/html": "<div>\n<style scoped>\n    .dataframe tbody tr th:only-of-type {\n        vertical-align: middle;\n    }\n\n    .dataframe tbody tr th {\n        vertical-align: top;\n    }\n\n    .dataframe thead th {\n        text-align: right;\n    }\n</style>\n<table border=\"1\" class=\"dataframe\">\n  <thead>\n    <tr style=\"text-align: right;\">\n      <th></th>\n      <th>sepal_length</th>\n      <th>sepal_width</th>\n      <th>petal_length</th>\n      <th>petal_width</th>\n      <th>iris_type</th>\n    </tr>\n  </thead>\n  <tbody>\n    <tr>\n      <th>0</th>\n      <td>5.1</td>\n      <td>3.5</td>\n      <td>1.4</td>\n      <td>0.2</td>\n      <td>Iris-setosa</td>\n    </tr>\n    <tr>\n      <th>1</th>\n      <td>4.9</td>\n      <td>3.0</td>\n      <td>1.4</td>\n      <td>0.2</td>\n      <td>Iris-setosa</td>\n    </tr>\n    <tr>\n      <th>2</th>\n      <td>4.7</td>\n      <td>3.2</td>\n      <td>1.3</td>\n      <td>0.2</td>\n      <td>Iris-setosa</td>\n    </tr>\n    <tr>\n      <th>3</th>\n      <td>4.6</td>\n      <td>3.1</td>\n      <td>1.5</td>\n      <td>0.2</td>\n      <td>Iris-setosa</td>\n    </tr>\n    <tr>\n      <th>4</th>\n      <td>5.0</td>\n      <td>3.6</td>\n      <td>1.4</td>\n      <td>0.2</td>\n      <td>Iris-setosa</td>\n    </tr>\n    <tr>\n      <th>5</th>\n      <td>5.4</td>\n      <td>3.9</td>\n      <td>1.7</td>\n      <td>0.4</td>\n      <td>Iris-setosa</td>\n    </tr>\n    <tr>\n      <th>6</th>\n      <td>4.6</td>\n      <td>3.4</td>\n      <td>1.4</td>\n      <td>0.3</td>\n      <td>Iris-setosa</td>\n    </tr>\n    <tr>\n      <th>7</th>\n      <td>5.0</td>\n      <td>3.4</td>\n      <td>1.5</td>\n      <td>0.2</td>\n      <td>Iris-setosa</td>\n    </tr>\n    <tr>\n      <th>8</th>\n      <td>4.4</td>\n      <td>2.9</td>\n      <td>1.4</td>\n      <td>0.2</td>\n      <td>Iris-setosa</td>\n    </tr>\n    <tr>\n      <th>9</th>\n      <td>4.9</td>\n      <td>3.1</td>\n      <td>1.5</td>\n      <td>0.1</td>\n      <td>Iris-setosa</td>\n    </tr>\n  </tbody>\n</table>\n</div>"
     },
     "metadata": {},
     "execution_count": 34
    }
   ],
   "source": [
    "# Your code here:\n",
    "iris.head(10)\n"
   ]
  },
  {
   "cell_type": "markdown",
   "metadata": {},
   "source": [
    "Let's start off by using built-in functions. Try to apply the numpy mean function and describe what happens in the comments of the code."
   ]
  },
  {
   "cell_type": "code",
   "execution_count": 36,
   "metadata": {},
   "outputs": [
    {
     "output_type": "execute_result",
     "data": {
      "text/plain": [
       "sepal_length    5.843333\n",
       "sepal_width     3.054000\n",
       "petal_length    3.758667\n",
       "petal_width     1.198667\n",
       "dtype: float64"
      ]
     },
     "metadata": {},
     "execution_count": 36
    }
   ],
   "source": [
    "# Your code here:\n",
    "import numpy as np\n",
    "np.mean(iris)"
   ]
  },
  {
   "cell_type": "code",
   "execution_count": null,
   "metadata": {},
   "outputs": [],
   "source": [
    "# numpy mean function calculate mean of each numeric columns."
   ]
  },
  {
   "cell_type": "markdown",
   "metadata": {},
   "source": [
    "Next, we'll apply the standard deviation function in numpy (`np.std`). Describe what happened in the comments."
   ]
  },
  {
   "cell_type": "code",
   "execution_count": 37,
   "metadata": {},
   "outputs": [
    {
     "output_type": "execute_result",
     "data": {
      "text/plain": [
       "sepal_length    0.825301\n",
       "sepal_width     0.432147\n",
       "petal_length    1.758529\n",
       "petal_width     0.760613\n",
       "dtype: float64"
      ]
     },
     "metadata": {},
     "execution_count": 37
    }
   ],
   "source": [
    "# Your code here:\n",
    "np.std(iris)\n"
   ]
  },
  {
   "cell_type": "code",
   "execution_count": null,
   "metadata": {},
   "outputs": [],
   "source": [
    "# numpy std function calculate standar deviation of each numeric columns."
   ]
  },
  {
   "cell_type": "markdown",
   "metadata": {},
   "source": [
    "The measurements are in centimeters. Let's convert them all to inches. First, we will create a dataframe that contains only the numeric columns. Assign this new dataframe to `iris_numeric`."
   ]
  },
  {
   "cell_type": "code",
   "execution_count": 39,
   "metadata": {},
   "outputs": [
    {
     "output_type": "execute_result",
     "data": {
      "text/plain": [
       "     sepal_length  sepal_width  petal_length  petal_width\n",
       "0             5.1          3.5           1.4          0.2\n",
       "1             4.9          3.0           1.4          0.2\n",
       "2             4.7          3.2           1.3          0.2\n",
       "3             4.6          3.1           1.5          0.2\n",
       "4             5.0          3.6           1.4          0.2\n",
       "..            ...          ...           ...          ...\n",
       "145           6.7          3.0           5.2          2.3\n",
       "146           6.3          2.5           5.0          1.9\n",
       "147           6.5          3.0           5.2          2.0\n",
       "148           6.2          3.4           5.4          2.3\n",
       "149           5.9          3.0           5.1          1.8\n",
       "\n",
       "[150 rows x 4 columns]"
      ],
      "text/html": "<div>\n<style scoped>\n    .dataframe tbody tr th:only-of-type {\n        vertical-align: middle;\n    }\n\n    .dataframe tbody tr th {\n        vertical-align: top;\n    }\n\n    .dataframe thead th {\n        text-align: right;\n    }\n</style>\n<table border=\"1\" class=\"dataframe\">\n  <thead>\n    <tr style=\"text-align: right;\">\n      <th></th>\n      <th>sepal_length</th>\n      <th>sepal_width</th>\n      <th>petal_length</th>\n      <th>petal_width</th>\n    </tr>\n  </thead>\n  <tbody>\n    <tr>\n      <th>0</th>\n      <td>5.1</td>\n      <td>3.5</td>\n      <td>1.4</td>\n      <td>0.2</td>\n    </tr>\n    <tr>\n      <th>1</th>\n      <td>4.9</td>\n      <td>3.0</td>\n      <td>1.4</td>\n      <td>0.2</td>\n    </tr>\n    <tr>\n      <th>2</th>\n      <td>4.7</td>\n      <td>3.2</td>\n      <td>1.3</td>\n      <td>0.2</td>\n    </tr>\n    <tr>\n      <th>3</th>\n      <td>4.6</td>\n      <td>3.1</td>\n      <td>1.5</td>\n      <td>0.2</td>\n    </tr>\n    <tr>\n      <th>4</th>\n      <td>5.0</td>\n      <td>3.6</td>\n      <td>1.4</td>\n      <td>0.2</td>\n    </tr>\n    <tr>\n      <th>...</th>\n      <td>...</td>\n      <td>...</td>\n      <td>...</td>\n      <td>...</td>\n    </tr>\n    <tr>\n      <th>145</th>\n      <td>6.7</td>\n      <td>3.0</td>\n      <td>5.2</td>\n      <td>2.3</td>\n    </tr>\n    <tr>\n      <th>146</th>\n      <td>6.3</td>\n      <td>2.5</td>\n      <td>5.0</td>\n      <td>1.9</td>\n    </tr>\n    <tr>\n      <th>147</th>\n      <td>6.5</td>\n      <td>3.0</td>\n      <td>5.2</td>\n      <td>2.0</td>\n    </tr>\n    <tr>\n      <th>148</th>\n      <td>6.2</td>\n      <td>3.4</td>\n      <td>5.4</td>\n      <td>2.3</td>\n    </tr>\n    <tr>\n      <th>149</th>\n      <td>5.9</td>\n      <td>3.0</td>\n      <td>5.1</td>\n      <td>1.8</td>\n    </tr>\n  </tbody>\n</table>\n<p>150 rows × 4 columns</p>\n</div>"
     },
     "metadata": {},
     "execution_count": 39
    }
   ],
   "source": [
    "# Your code here:\n",
    "iris_numeric = iris.select_dtypes(include=np.number)\n",
    "iris_numeric\n"
   ]
  },
  {
   "cell_type": "markdown",
   "metadata": {},
   "source": [
    "Next, we will write a function that converts centimeters to inches in the cell below. Recall that 1cm = 0.393701in."
   ]
  },
  {
   "cell_type": "code",
   "execution_count": 55,
   "metadata": {},
   "outputs": [],
   "source": [
    "def cm_to_in(x):\n",
    "    # This function takes in a numeric value in centimeters and converts it to inches\n",
    "    # Input: numeric value\n",
    "    # Output: float\n",
    "    \n",
    "    # Sample Input: 1.0\n",
    "    # Sample Output: 0.393701\n",
    "    \n",
    "    # Your code here:\n",
    "    inches = 0.393701\n",
    "    return x * inches\n"
   ]
  },
  {
   "cell_type": "markdown",
   "metadata": {},
   "source": [
    "Now convert all columns in `iris_numeric` to inches in the cell below. We like to think of functional transformations as immutable. Therefore, save the transformed data in a dataframe called `iris_inch`."
   ]
  },
  {
   "cell_type": "code",
   "execution_count": 57,
   "metadata": {},
   "outputs": [
    {
     "output_type": "stream",
     "name": "stdout",
     "text": [
      "[2.0078751, 1.9291349000000002, 1.8503947000000003, 1.8110245999999999, 1.9685050000000002, 2.1259854000000002, 1.8110245999999999, 1.9685050000000002, 1.7322844000000002, 1.9291349000000002, 2.1259854000000002, 1.8897648, 1.8897648, 1.6929143, 2.2834658, 2.2440957000000004, 2.1259854000000002, 2.0078751, 2.2440957000000004, 2.0078751, 2.1259854000000002, 2.0078751, 1.8110245999999999, 2.0078751, 1.8897648, 1.9685050000000002, 1.9685050000000002, 2.0472452000000003, 2.0472452000000003, 1.8503947000000003, 1.8897648, 2.1259854000000002, 2.0472452000000003, 2.1653555, 1.9291349000000002, 1.9685050000000002, 2.1653555, 1.9291349000000002, 1.7322844000000002, 2.0078751, 1.9685050000000002, 1.7716545000000001, 1.7322844000000002, 1.9685050000000002, 2.0078751, 1.8897648, 2.0078751, 1.8110245999999999, 2.0866153, 1.9685050000000002, 2.755907, 2.5196864000000003, 2.7165369000000004, 2.1653555, 2.5590565, 2.2440957000000004, 2.4803163, 1.9291349000000002, 2.5984266, 2.0472452000000003, 1.9685050000000002, 2.3228359000000003, 2.362206, 2.4015761, 2.2047256, 2.6377967000000004, 2.2047256, 2.2834658, 2.4409462000000004, 2.2047256, 2.3228359000000003, 2.4015761, 2.4803163, 2.4015761, 2.5196864000000003, 2.5984266, 2.6771668, 2.6377967000000004, 2.362206, 2.2440957000000004, 2.1653555, 2.1653555, 2.2834658, 2.362206, 2.1259854000000002, 2.362206, 2.6377967000000004, 2.4803163, 2.2047256, 2.1653555, 2.1653555, 2.4015761, 2.2834658, 1.9685050000000002, 2.2047256, 2.2440957000000004, 2.2440957000000004, 2.4409462000000004, 2.0078751, 2.2440957000000004, 2.4803163, 2.2834658, 2.7952771, 2.4803163, 2.5590565, 2.9921276, 1.9291349000000002, 2.8740173, 2.6377967000000004, 2.8346472, 2.5590565, 2.5196864000000003, 2.6771668, 2.2440957000000004, 2.2834658, 2.5196864000000003, 2.5590565, 3.0314977, 3.0314977, 2.362206, 2.7165369000000004, 2.2047256, 3.0314977, 2.4803163, 2.6377967000000004, 2.8346472, 2.4409462000000004, 2.4015761, 2.5196864000000003, 2.8346472, 2.9133874000000004, 3.1102379000000004, 2.5196864000000003, 2.4803163, 2.4015761, 3.0314977, 2.4803163, 2.5196864000000003, 2.362206, 2.7165369000000004, 2.6377967000000004, 2.7165369000000004, 2.2834658, 2.6771668, 2.6377967000000004, 2.6377967000000004, 2.4803163, 2.5590565, 2.4409462000000004, 2.3228359000000003, 1.3779535, 1.181103, 1.2598432000000002, 1.2204731000000002, 1.4173236, 1.5354339000000001, 1.3385834, 1.3385834, 1.1417329, 1.2204731000000002, 1.4566937000000002, 1.3385834, 1.181103, 1.181103, 1.574804, 1.7322844000000002, 1.5354339000000001, 1.3779535, 1.4960638, 1.4960638, 1.3385834, 1.4566937000000002, 1.4173236, 1.2992133, 1.3385834, 1.181103, 1.3385834, 1.3779535, 1.3385834, 1.2598432000000002, 1.2204731000000002, 1.3385834, 1.6141741, 1.6535442000000002, 1.2204731000000002, 1.2598432000000002, 1.3779535, 1.2204731000000002, 1.181103, 1.3385834, 1.3779535, 0.9055122999999999, 1.2598432000000002, 1.3779535, 1.4960638, 1.181103, 1.4960638, 1.2598432000000002, 1.4566937000000002, 1.2992133, 1.2598432000000002, 1.2598432000000002, 1.2204731000000002, 0.9055122999999999, 1.1023628, 1.1023628, 1.2992133, 0.9448824, 1.1417329, 1.0629927000000001, 0.787402, 1.181103, 0.8661422000000001, 1.1417329, 1.1417329, 1.2204731000000002, 1.181103, 1.0629927000000001, 0.8661422000000001, 0.9842525000000001, 1.2598432000000002, 1.1023628, 0.9842525000000001, 1.1023628, 1.1417329, 1.181103, 1.1023628, 1.181103, 1.1417329, 1.0236226000000002, 0.9448824, 0.9448824, 1.0629927000000001, 1.0629927000000001, 1.181103, 1.3385834, 1.2204731000000002, 0.9055122999999999, 1.181103, 0.9842525000000001, 1.0236226000000002, 1.181103, 1.0236226000000002, 0.9055122999999999, 1.0629927000000001, 1.181103, 1.1417329, 1.1417329, 0.9842525000000001, 1.1023628, 1.2992133, 1.0629927000000001, 1.181103, 1.1417329, 1.181103, 1.181103, 0.9842525000000001, 1.1417329, 0.9842525000000001, 1.4173236, 1.2598432000000002, 1.0629927000000001, 1.181103, 0.9842525000000001, 1.1023628, 1.2598432000000002, 1.181103, 1.4960638, 1.0236226000000002, 0.8661422000000001, 1.2598432000000002, 1.1023628, 1.1023628, 1.0629927000000001, 1.2992133, 1.2598432000000002, 1.1023628, 1.181103, 1.1023628, 1.181103, 1.1023628, 1.4960638, 1.1023628, 1.1023628, 1.0236226000000002, 1.181103, 1.3385834, 1.2204731000000002, 1.181103, 1.2204731000000002, 1.2204731000000002, 1.2204731000000002, 1.0629927000000001, 1.2598432000000002, 1.2992133, 1.181103, 0.9842525000000001, 1.181103, 1.3385834, 1.181103, 0.5511814, 0.5511814, 0.5118113000000001, 0.5905515, 0.5511814, 0.6692917, 0.5511814, 0.5905515, 0.5511814, 0.5905515, 0.5905515, 0.6299216000000001, 0.5511814, 0.43307110000000004, 0.4724412, 0.5905515, 0.5118113000000001, 0.5511814, 0.6692917, 0.5905515, 0.6692917, 0.5905515, 0.393701, 0.6692917, 0.7480319, 0.6299216000000001, 0.6299216000000001, 0.5905515, 0.5511814, 0.6299216000000001, 0.6299216000000001, 0.5905515, 0.5905515, 0.5511814, 0.5905515, 0.4724412, 0.5118113000000001, 0.5905515, 0.5118113000000001, 0.5905515, 0.5118113000000001, 0.5118113000000001, 0.5118113000000001, 0.6299216000000001, 0.7480319, 0.5511814, 0.6299216000000001, 0.5511814, 0.5905515, 0.5511814, 1.8503947000000003, 1.7716545000000001, 1.9291349000000002, 1.574804, 1.8110245999999999, 1.7716545000000001, 1.8503947000000003, 1.2992133, 1.8110245999999999, 1.5354339000000001, 1.3779535, 1.6535442000000002, 1.574804, 1.8503947000000003, 1.4173236, 1.7322844000000002, 1.7716545000000001, 1.6141741, 1.7716545000000001, 1.5354339000000001, 1.8897648, 1.574804, 1.9291349000000002, 1.8503947000000003, 1.6929143, 1.7322844000000002, 1.8897648, 1.9685050000000002, 1.7716545000000001, 1.3779535, 1.4960638, 1.4566937000000002, 1.5354339000000001, 2.0078751, 1.7716545000000001, 1.7716545000000001, 1.8503947000000003, 1.7322844000000002, 1.6141741, 1.574804, 1.7322844000000002, 1.8110245999999999, 1.574804, 1.2992133, 1.6535442000000002, 1.6535442000000002, 1.6535442000000002, 1.6929143, 1.181103, 1.6141741, 2.362206, 2.0078751, 2.3228359000000003, 2.2047256, 2.2834658, 2.5984266, 1.7716545000000001, 2.4803163, 2.2834658, 2.4015761, 2.0078751, 2.0866153, 2.1653555, 1.9685050000000002, 2.0078751, 2.0866153, 2.1653555, 2.6377967000000004, 2.7165369000000004, 1.9685050000000002, 2.2440957000000004, 1.9291349000000002, 2.6377967000000004, 1.9291349000000002, 2.2440957000000004, 2.362206, 1.8897648, 1.9291349000000002, 2.2047256, 2.2834658, 2.4015761, 2.5196864000000003, 2.2047256, 2.0078751, 2.2047256, 2.4015761, 2.2047256, 2.1653555, 1.8897648, 2.1259854000000002, 2.2047256, 2.0078751, 2.0078751, 2.3228359000000003, 2.2440957000000004, 2.0472452000000003, 1.9685050000000002, 2.0472452000000003, 2.1259854000000002, 2.0078751, 0.07874020000000001, 0.07874020000000001, 0.07874020000000001, 0.07874020000000001, 0.07874020000000001, 0.15748040000000002, 0.1181103, 0.07874020000000001, 0.07874020000000001, 0.039370100000000005, 0.07874020000000001, 0.07874020000000001, 0.039370100000000005, 0.039370100000000005, 0.07874020000000001, 0.15748040000000002, 0.15748040000000002, 0.1181103, 0.1181103, 0.1181103, 0.07874020000000001, 0.15748040000000002, 0.07874020000000001, 0.1968505, 0.07874020000000001, 0.07874020000000001, 0.15748040000000002, 0.07874020000000001, 0.07874020000000001, 0.07874020000000001, 0.07874020000000001, 0.15748040000000002, 0.039370100000000005, 0.07874020000000001, 0.039370100000000005, 0.07874020000000001, 0.07874020000000001, 0.039370100000000005, 0.07874020000000001, 0.07874020000000001, 0.1181103, 0.1181103, 0.07874020000000001, 0.2362206, 0.15748040000000002, 0.1181103, 0.07874020000000001, 0.07874020000000001, 0.07874020000000001, 0.07874020000000001, 0.5511814, 0.5905515, 0.5905515, 0.5118113000000001, 0.5905515, 0.5118113000000001, 0.6299216000000001, 0.393701, 0.5118113000000001, 0.5511814, 0.393701, 0.5905515, 0.393701, 0.5511814, 0.5118113000000001, 0.5511814, 0.5905515, 0.393701, 0.5905515, 0.43307110000000004, 0.7086618, 0.5118113000000001, 0.5905515, 0.4724412, 0.5118113000000001, 0.5511814, 0.5511814, 0.6692917, 0.5905515, 0.393701, 0.43307110000000004, 0.393701, 0.4724412, 0.6299216000000001, 0.5905515, 0.6299216000000001, 0.5905515, 0.5118113000000001, 0.5118113000000001, 0.5118113000000001, 0.4724412, 0.5511814, 0.4724412, 0.393701, 0.5118113000000001, 0.4724412, 0.5118113000000001, 0.5118113000000001, 0.43307110000000004, 0.5118113000000001, 0.9842525000000001, 0.7480319, 0.8267721000000001, 0.7086618, 0.8661422000000001, 0.8267721000000001, 0.6692917, 0.7086618, 0.7086618, 0.9842525000000001, 0.787402, 0.7480319, 0.8267721000000001, 0.787402, 0.9448824, 0.9055122999999999, 0.7086618, 0.8661422000000001, 0.9055122999999999, 0.5905515, 0.9055122999999999, 0.787402, 0.787402, 0.7086618, 0.8267721000000001, 0.7086618, 0.7086618, 0.7086618, 0.8267721000000001, 0.6299216000000001, 0.7480319, 0.787402, 0.8661422000000001, 0.5905515, 0.5511814, 0.9055122999999999, 0.9448824, 0.7086618, 0.7086618, 0.8267721000000001, 0.9448824, 0.9055122999999999, 0.7480319, 0.9055122999999999, 0.9842525000000001, 0.9055122999999999, 0.7480319, 0.787402, 0.9055122999999999, 0.7086618]\n"
     ]
    }
   ],
   "source": [
    "# Your code here:\n",
    "iris_inches = [cm_to_in(val) for col in list(iris_numeric.columns) for val in iris_numeric[col]]\n",
    "print(iris_inches)\n"
   ]
  },
  {
   "cell_type": "markdown",
   "metadata": {},
   "source": [
    "We have just found that the original measurements were off by a constant. Define the global constant `error` and set it to 2. Write a function that uses the global constant and adds it to each cell in the dataframe. Apply this function to `iris_numeric` and save the result in `iris_constant`."
   ]
  },
  {
   "cell_type": "code",
   "execution_count": 62,
   "metadata": {},
   "outputs": [
    {
     "output_type": "stream",
     "name": "stdout",
     "text": [
      "[7.1, 6.9, 6.7, 6.6, 7.0, 7.4, 6.6, 7.0, 6.4, 6.9, 7.4, 6.8, 6.8, 6.3, 7.8, 7.7, 7.4, 7.1, 7.7, 7.1, 7.4, 7.1, 6.6, 7.1, 6.8, 7.0, 7.0, 7.2, 7.2, 6.7, 6.8, 7.4, 7.2, 7.5, 6.9, 7.0, 7.5, 6.9, 6.4, 7.1, 7.0, 6.5, 6.4, 7.0, 7.1, 6.8, 7.1, 6.6, 7.3, 7.0, 9.0, 8.4, 8.9, 7.5, 8.5, 7.7, 8.3, 6.9, 8.6, 7.2, 7.0, 7.9, 8.0, 8.1, 7.6, 8.7, 7.6, 7.8, 8.2, 7.6, 7.9, 8.1, 8.3, 8.1, 8.4, 8.6, 8.8, 8.7, 8.0, 7.7, 7.5, 7.5, 7.8, 8.0, 7.4, 8.0, 8.7, 8.3, 7.6, 7.5, 7.5, 8.1, 7.8, 7.0, 7.6, 7.7, 7.7, 8.2, 7.1, 7.7, 8.3, 7.8, 9.1, 8.3, 8.5, 9.6, 6.9, 9.3, 8.7, 9.2, 8.5, 8.4, 8.8, 7.7, 7.8, 8.4, 8.5, 9.7, 9.7, 8.0, 8.9, 7.6, 9.7, 8.3, 8.7, 9.2, 8.2, 8.1, 8.4, 9.2, 9.4, 9.9, 8.4, 8.3, 8.1, 9.7, 8.3, 8.4, 8.0, 8.9, 8.7, 8.9, 7.8, 8.8, 8.7, 8.7, 8.3, 8.5, 8.2, 7.9, 5.5, 5.0, 5.2, 5.1, 5.6, 5.9, 5.4, 5.4, 4.9, 5.1, 5.7, 5.4, 5.0, 5.0, 6.0, 6.4, 5.9, 5.5, 5.8, 5.8, 5.4, 5.7, 5.6, 5.3, 5.4, 5.0, 5.4, 5.5, 5.4, 5.2, 5.1, 5.4, 6.1, 6.2, 5.1, 5.2, 5.5, 5.1, 5.0, 5.4, 5.5, 4.3, 5.2, 5.5, 5.8, 5.0, 5.8, 5.2, 5.7, 5.3, 5.2, 5.2, 5.1, 4.3, 4.8, 4.8, 5.3, 4.4, 4.9, 4.7, 4.0, 5.0, 4.2, 4.9, 4.9, 5.1, 5.0, 4.7, 4.2, 4.5, 5.2, 4.8, 4.5, 4.8, 4.9, 5.0, 4.8, 5.0, 4.9, 4.6, 4.4, 4.4, 4.7, 4.7, 5.0, 5.4, 5.1, 4.3, 5.0, 4.5, 4.6, 5.0, 4.6, 4.3, 4.7, 5.0, 4.9, 4.9, 4.5, 4.8, 5.3, 4.7, 5.0, 4.9, 5.0, 5.0, 4.5, 4.9, 4.5, 5.6, 5.2, 4.7, 5.0, 4.5, 4.8, 5.2, 5.0, 5.8, 4.6, 4.2, 5.2, 4.8, 4.8, 4.7, 5.3, 5.2, 4.8, 5.0, 4.8, 5.0, 4.8, 5.8, 4.8, 4.8, 4.6, 5.0, 5.4, 5.1, 5.0, 5.1, 5.1, 5.1, 4.7, 5.2, 5.3, 5.0, 4.5, 5.0, 5.4, 5.0, 3.4, 3.4, 3.3, 3.5, 3.4, 3.7, 3.4, 3.5, 3.4, 3.5, 3.5, 3.6, 3.4, 3.1, 3.2, 3.5, 3.3, 3.4, 3.7, 3.5, 3.7, 3.5, 3.0, 3.7, 3.9, 3.6, 3.6, 3.5, 3.4, 3.6, 3.6, 3.5, 3.5, 3.4, 3.5, 3.2, 3.3, 3.5, 3.3, 3.5, 3.3, 3.3, 3.3, 3.6, 3.9, 3.4, 3.6, 3.4, 3.5, 3.4, 6.7, 6.5, 6.9, 6.0, 6.6, 6.5, 6.7, 5.3, 6.6, 5.9, 5.5, 6.2, 6.0, 6.7, 5.6, 6.4, 6.5, 6.1, 6.5, 5.9, 6.8, 6.0, 6.9, 6.7, 6.3, 6.4, 6.8, 7.0, 6.5, 5.5, 5.8, 5.7, 5.9, 7.1, 6.5, 6.5, 6.7, 6.4, 6.1, 6.0, 6.4, 6.6, 6.0, 5.3, 6.2, 6.2, 6.2, 6.3, 5.0, 6.1, 8.0, 7.1, 7.9, 7.6, 7.8, 8.6, 6.5, 8.3, 7.8, 8.1, 7.1, 7.3, 7.5, 7.0, 7.1, 7.3, 7.5, 8.7, 8.9, 7.0, 7.7, 6.9, 8.7, 6.9, 7.7, 8.0, 6.8, 6.9, 7.6, 7.8, 8.1, 8.4, 7.6, 7.1, 7.6, 8.1, 7.6, 7.5, 6.8, 7.4, 7.6, 7.1, 7.1, 7.9, 7.7, 7.2, 7.0, 7.2, 7.4, 7.1, 2.2, 2.2, 2.2, 2.2, 2.2, 2.4, 2.3, 2.2, 2.2, 2.1, 2.2, 2.2, 2.1, 2.1, 2.2, 2.4, 2.4, 2.3, 2.3, 2.3, 2.2, 2.4, 2.2, 2.5, 2.2, 2.2, 2.4, 2.2, 2.2, 2.2, 2.2, 2.4, 2.1, 2.2, 2.1, 2.2, 2.2, 2.1, 2.2, 2.2, 2.3, 2.3, 2.2, 2.6, 2.4, 2.3, 2.2, 2.2, 2.2, 2.2, 3.4, 3.5, 3.5, 3.3, 3.5, 3.3, 3.6, 3.0, 3.3, 3.4, 3.0, 3.5, 3.0, 3.4, 3.3, 3.4, 3.5, 3.0, 3.5, 3.1, 3.8, 3.3, 3.5, 3.2, 3.3, 3.4, 3.4, 3.7, 3.5, 3.0, 3.1, 3.0, 3.2, 3.6, 3.5, 3.6, 3.5, 3.3, 3.3, 3.3, 3.2, 3.4, 3.2, 3.0, 3.3, 3.2, 3.3, 3.3, 3.1, 3.3, 4.5, 3.9, 4.1, 3.8, 4.2, 4.1, 3.7, 3.8, 3.8, 4.5, 4.0, 3.9, 4.1, 4.0, 4.4, 4.3, 3.8, 4.2, 4.3, 3.5, 4.3, 4.0, 4.0, 3.8, 4.1, 3.8, 3.8, 3.8, 4.1, 3.6, 3.9, 4.0, 4.2, 3.5, 3.4, 4.3, 4.4, 3.8, 3.8, 4.1, 4.4, 4.3, 3.9, 4.3, 4.5, 4.3, 3.9, 4.0, 4.3, 3.8]\n"
     ]
    }
   ],
   "source": [
    "# Define constant below:\n",
    "g_error = 2\n",
    "\n",
    "def add_constant(x):\n",
    "    # This function adds a global constant to our input.\n",
    "    # Input: numeric value\n",
    "    # Output: numeric value\n",
    "    \n",
    "    # Your code here:\n",
    "    return x + g_error\n",
    "    \n",
    "iris_constant = [add_constant(val) for col in list(iris_numeric.columns) for val in iris_numeric[col]]\n",
    "print(iris_constant)"
   ]
  },
  {
   "cell_type": "markdown",
   "metadata": {},
   "source": [
    "# Bonus Challenge - Applying Functions to Columns\n",
    "\n",
    "Read more about applying functions to either rows or columns [here](https://pandas.pydata.org/pandas-docs/stable/generated/pandas.DataFrame.apply.html) and write a function that computes the maximum value for each row of `iris_numeric`"
   ]
  },
  {
   "cell_type": "code",
   "execution_count": 70,
   "metadata": {},
   "outputs": [
    {
     "output_type": "stream",
     "name": "stdout",
     "text": [
      "0      5.1\n1      4.9\n2      4.7\n3      4.6\n4      5.0\n      ... \n145    6.7\n146    6.3\n147    6.5\n148    6.2\n149    5.9\nLength: 150, dtype: float64\n"
     ]
    }
   ],
   "source": [
    "# Your code here:\n",
    "def max_value_row(df):\n",
    "    max_val = df.apply(np.max, axis=1)\n",
    "    return(max_val)\n",
    "\n",
    "print(max_value_row(iris_numeric))\n"
   ]
  },
  {
   "cell_type": "markdown",
   "metadata": {},
   "source": [
    "Compute the combined lengths for each row and the combined widths for each row using a function. Assign these values to new columns `total_length` and `total_width`."
   ]
  },
  {
   "cell_type": "code",
   "execution_count": 73,
   "metadata": {},
   "outputs": [
    {
     "output_type": "execute_result",
     "data": {
      "text/plain": [
       "     sepal_length  sepal_width  petal_length  petal_width\n",
       "0             5.1          3.5           1.4          0.2\n",
       "1             4.9          3.0           1.4          0.2\n",
       "2             4.7          3.2           1.3          0.2\n",
       "3             4.6          3.1           1.5          0.2\n",
       "4             5.0          3.6           1.4          0.2\n",
       "..            ...          ...           ...          ...\n",
       "145           6.7          3.0           5.2          2.3\n",
       "146           6.3          2.5           5.0          1.9\n",
       "147           6.5          3.0           5.2          2.0\n",
       "148           6.2          3.4           5.4          2.3\n",
       "149           5.9          3.0           5.1          1.8\n",
       "\n",
       "[150 rows x 4 columns]"
      ],
      "text/html": "<div>\n<style scoped>\n    .dataframe tbody tr th:only-of-type {\n        vertical-align: middle;\n    }\n\n    .dataframe tbody tr th {\n        vertical-align: top;\n    }\n\n    .dataframe thead th {\n        text-align: right;\n    }\n</style>\n<table border=\"1\" class=\"dataframe\">\n  <thead>\n    <tr style=\"text-align: right;\">\n      <th></th>\n      <th>sepal_length</th>\n      <th>sepal_width</th>\n      <th>petal_length</th>\n      <th>petal_width</th>\n    </tr>\n  </thead>\n  <tbody>\n    <tr>\n      <th>0</th>\n      <td>5.1</td>\n      <td>3.5</td>\n      <td>1.4</td>\n      <td>0.2</td>\n    </tr>\n    <tr>\n      <th>1</th>\n      <td>4.9</td>\n      <td>3.0</td>\n      <td>1.4</td>\n      <td>0.2</td>\n    </tr>\n    <tr>\n      <th>2</th>\n      <td>4.7</td>\n      <td>3.2</td>\n      <td>1.3</td>\n      <td>0.2</td>\n    </tr>\n    <tr>\n      <th>3</th>\n      <td>4.6</td>\n      <td>3.1</td>\n      <td>1.5</td>\n      <td>0.2</td>\n    </tr>\n    <tr>\n      <th>4</th>\n      <td>5.0</td>\n      <td>3.6</td>\n      <td>1.4</td>\n      <td>0.2</td>\n    </tr>\n    <tr>\n      <th>...</th>\n      <td>...</td>\n      <td>...</td>\n      <td>...</td>\n      <td>...</td>\n    </tr>\n    <tr>\n      <th>145</th>\n      <td>6.7</td>\n      <td>3.0</td>\n      <td>5.2</td>\n      <td>2.3</td>\n    </tr>\n    <tr>\n      <th>146</th>\n      <td>6.3</td>\n      <td>2.5</td>\n      <td>5.0</td>\n      <td>1.9</td>\n    </tr>\n    <tr>\n      <th>147</th>\n      <td>6.5</td>\n      <td>3.0</td>\n      <td>5.2</td>\n      <td>2.0</td>\n    </tr>\n    <tr>\n      <th>148</th>\n      <td>6.2</td>\n      <td>3.4</td>\n      <td>5.4</td>\n      <td>2.3</td>\n    </tr>\n    <tr>\n      <th>149</th>\n      <td>5.9</td>\n      <td>3.0</td>\n      <td>5.1</td>\n      <td>1.8</td>\n    </tr>\n  </tbody>\n</table>\n<p>150 rows × 4 columns</p>\n</div>"
     },
     "metadata": {},
     "execution_count": 73
    }
   ],
   "source": [
    "iris_numeric"
   ]
  },
  {
   "cell_type": "code",
   "execution_count": 92,
   "metadata": {},
   "outputs": [
    {
     "output_type": "stream",
     "name": "stdout",
     "text": [
      "0       6.5\n1       6.3\n2       6.0\n3       6.1\n4       6.4\n       ... \n145    11.9\n146    11.3\n147    11.7\n148    11.6\n149    11.0\nLength: 150, dtype: float64\n0      3.7\n1      3.2\n2      3.4\n3      3.3\n4      3.8\n      ... \n145    5.3\n146    4.4\n147    5.0\n148    5.7\n149    4.8\nLength: 150, dtype: float64\n"
     ]
    }
   ],
   "source": [
    "# Your code here:\n",
    "def sum_value(df):\n",
    "    sum_val = df.apply(np.sum, axis=1)\n",
    "    return(sum_val)\n",
    "\n",
    "total_length   = sum_value(iris_numeric[['sepal_length','petal_length']])\n",
    "print(total_length)\n",
    "\n",
    "total_width   = sum_value(iris_numeric[['sepal_width','petal_width']])\n",
    "print(total_width)\n",
    "\n"
   ]
  }
 ],
 "metadata": {
  "kernelspec": {
   "name": "python391jvsc74a57bd0376f5b0795f81aa7b5d99e448d6274743a66c9892fd26cf11e505993f41df5fa",
   "display_name": "Python 3.9.1 64-bit"
  },
  "language_info": {
   "codemirror_mode": {
    "name": "ipython",
    "version": 3
   },
   "file_extension": ".py",
   "mimetype": "text/x-python",
   "name": "python",
   "nbconvert_exporter": "python",
   "pygments_lexer": "ipython3",
   "version": "3.9.1"
  }
 },
 "nbformat": 4,
 "nbformat_minor": 2
}