{
 "cells": [
  {
   "cell_type": "markdown",
   "metadata": {},
   "source": [
    "In the cell below, create a Python function that wraps your previous solution for the Bag of Words lab.\n",
    "\n",
    "Requirements:\n",
    "\n",
    "1. Your function should accept the following parameters:\n",
    "    * `docs` [REQUIRED] - array of document paths.\n",
    "    * `stop_words` [OPTIONAL] - array of stop words. The default value is an empty array.\n",
    "\n",
    "1. Your function should return a Python object that contains the following:\n",
    "    * `bag_of_words` - array of strings of normalized unique words in the corpus.\n",
    "    * `term_freq` - array of the term-frequency vectors."
   ]
  },
  {
   "cell_type": "code",
   "execution_count": 28,
   "metadata": {},
   "outputs": [
    {
     "output_type": "stream",
     "name": "stdout",
     "text": [
      "{'bag_of_words': [['Loop', 'docs', 'and', 'read', 'the', 'content', 'of', 'each', 'doc', 'into', 'string', 'in', 'corpus', 'Remember', 'to', 'convert', 'lowercases', 'remove', 'punctuation'], ['Loop', 'corpus', 'Append', 'the', 'terms', 'in', 'each', 'doc', 'into', 'bag_of_words', 'array', 'The', 'should', 'be', 'unique', 'which', 'means', 'before', 'adding', 'term', 'you', 'need', 'to', 'check', 'if', 'it', 'already', 'added', 'In', 'addition', 'is', 'stop_words', 'Only', 'append', 'not', 'stop', 'word'], ['Loop', 'corpus', 'again', 'For', 'each', 'doc', 'string', 'count', 'the', 'number', 'of', 'occurrences', 'term', 'in', 'bag_of_words', 'Create', 'an', 'array', 'for', 'frequency', 'and', 'append', 'it', 'to', 'term_freq']], 'term_freq': [[1, 1, 2, 1, 2, 2, 1, 1, 3, 1, 1, 3, 1, 1, 3, 1, 1, 1, 1], [1, 1, 1, 5, 2, 5, 3, 1, 1, 3, 3, 1, 1, 2, 1, 1, 1, 1, 1, 5, 1, 1, 6, 2, 3, 3, 1, 1, 1, 1, 2, 1, 1, 1, 1, 2, 5], [1, 1, 1, 1, 3, 2, 1, 1, 1, 1, 3, 1, 3, 3, 1, 1, 2, 1, 1, 1, 1, 1, 1, 1, 1]]}\n"
     ]
    }
   ],
   "source": [
    "# Import required libraries\n",
    "import pandas as pd\n",
    "import re\n",
    "text1 = \"\"\"\n",
    "    Loop `docs` and read the content of each doc into a string in `corpus`.\n",
    "    Remember to convert the doc content to lowercases and remove punctuation.\n",
    "    \"\"\"\n",
    "text2 = \"\"\"\n",
    "    Loop `corpus`. Append the terms in each doc into the `bag_of_words` array. The terms in `bag_of_words` \n",
    "    should be unique which means before adding each term you need to check if it's already added to the array.\n",
    "    In addition, check if each term is in the `stop_words` array. Only append the term to `bag_of_words`\n",
    "    if it is not a stop word.\n",
    "    \"\"\"\n",
    "text3 = \"\"\"\n",
    "    Loop `corpus` again. For each doc string, count the number of occurrences of each term in `bag_of_words`. \n",
    "    Create an array for each doc's term frequency and append it to `term_freq`.\n",
    "    \"\"\"\n",
    "# Define function\n",
    "def get_bag_of_words(text, stop_words=[]):\n",
    "    bag_of_words = []\n",
    "    pattern = re.compile(r'\\W+')\n",
    "    words = pattern.split(text)\n",
    "    for word in words:\n",
    "        if word not in bag_of_words:\n",
    "            if len(word)>1:\n",
    "                bag_of_words.append(word)\n",
    "    return bag_of_words\n",
    "\n",
    "def get_bow_from_docs(docs, stop_words=[]):\n",
    "    term_freq = []\n",
    "    bag_of_words = []\n",
    "    for doc in docs:\n",
    "        bag_words = get_bag_of_words(doc)\n",
    "        word_freq = []\n",
    "        for word in bag_words:\n",
    "            if word in doc:\n",
    "                word_freq.append(doc.count(word))\n",
    "        bag_of_words.append(bag_words)\n",
    "        term_freq.append(word_freq)\n",
    "    return {\n",
    "        \"bag_of_words\": bag_of_words,\n",
    "        \"term_freq\": term_freq\n",
    "    }\n",
    " \n",
    "text = []\n",
    "text.append(text1)\n",
    "text.append(text2)\n",
    "text.append(text3)\n",
    "print(get_bow_from_docs(text))\n",
    "   "
   ]
  },
  {
   "cell_type": "markdown",
   "metadata": {},
   "source": [
    "Test your function without stop words. You should see the output like below:\n",
    "\n",
    "```{'bag_of_words': ['ironhack', 'is', 'cool', 'i', 'love', 'am', 'a', 'student', 'at'], 'term_freq': [[1, 1, 1, 0, 0, 0, 0, 0, 0], [1, 0, 0, 1, 1, 0, 0, 0, 0], [1, 0, 0, 1, 0, 1, 1, 1, 1]]}```"
   ]
  },
  {
   "cell_type": "code",
   "execution_count": 29,
   "metadata": {},
   "outputs": [
    {
     "output_type": "stream",
     "name": "stdout",
     "text": [
      "['Ironhack is cool.\\n', 'I love Ironhack.\\n', 'I am a student at Ironhack.\\n']\n{'bag_of_words': [['Ironhack', 'is', 'cool'], ['love', 'Ironhack'], ['am', 'student', 'at', 'Ironhack']], 'term_freq': [[1, 1, 1], [1, 1], [1, 1, 1, 1]]}\n"
     ]
    }
   ],
   "source": [
    "# Define doc paths array\n",
    "docs = []\n",
    "# Write your code here\n",
    "f1 = open(\"./doc1.txt\")\n",
    "f2 = open(\"./doc2.txt\")\n",
    "f3 = open(\"./doc3.txt\")\n",
    "docs.append(f1.read())\n",
    "docs.append(f2.read())\n",
    "docs.append(f3.read())\n",
    "print(docs)\n",
    "# Obtain BoW from your function\n",
    "bow = get_bow_from_docs(docs)\n",
    "\n",
    "# Print BoW\n",
    "print(bow)"
   ]
  },
  {
   "cell_type": "markdown",
   "metadata": {},
   "source": [
    "If your attempt above is successful, nice work done!\n",
    "\n",
    "Now test your function again with the stop words. In the previous lab we defined the stop words in a large array. In this lab, we'll import the stop words from Scikit-Learn."
   ]
  },
  {
   "cell_type": "code",
   "execution_count": 51,
   "metadata": {},
   "outputs": [
    {
     "output_type": "error",
     "ename": "ImportError",
     "evalue": "cannot import name 'stop_words' from 'sklearn.feature_extraction' (C:\\Users\\lgutierrez\\AppData\\Local\\Programs\\Python\\Python39\\lib\\site-packages\\sklearn\\feature_extraction\\__init__.py)",
     "traceback": [
      "\u001b[1;31m---------------------------------------------------------------------------\u001b[0m",
      "\u001b[1;31mImportError\u001b[0m                               Traceback (most recent call last)",
      "\u001b[1;32m<ipython-input-51-1db975e3321a>\u001b[0m in \u001b[0;36m<module>\u001b[1;34m\u001b[0m\n\u001b[1;32m----> 1\u001b[1;33m \u001b[1;32mfrom\u001b[0m \u001b[0msklearn\u001b[0m\u001b[1;33m.\u001b[0m\u001b[0mfeature_extraction\u001b[0m \u001b[1;32mimport\u001b[0m \u001b[0mstop_words\u001b[0m\u001b[1;33m\u001b[0m\u001b[1;33m\u001b[0m\u001b[0m\n\u001b[0m\u001b[0;32m      2\u001b[0m \u001b[0mprint\u001b[0m\u001b[1;33m(\u001b[0m\u001b[0mstop_words\u001b[0m\u001b[1;33m.\u001b[0m\u001b[0mENGLISH_STOP_WORDS\u001b[0m\u001b[1;33m)\u001b[0m\u001b[1;33m\u001b[0m\u001b[1;33m\u001b[0m\u001b[0m\n",
      "\u001b[1;31mImportError\u001b[0m: cannot import name 'stop_words' from 'sklearn.feature_extraction' (C:\\Users\\lgutierrez\\AppData\\Local\\Programs\\Python\\Python39\\lib\\site-packages\\sklearn\\feature_extraction\\__init__.py)"
     ]
    }
   ],
   "source": [
    "from sklearn.feature_extraction import stop_words\n",
    "print(stop_words.ENGLISH_STOP_WORDS)"
   ]
  },
  {
   "cell_type": "markdown",
   "metadata": {},
   "source": [
    "You should have seen a large list of words that looks like:\n",
    "\n",
    "```frozenset({'across', 'mine', 'cannot', ...})```\n",
    "\n",
    "`frozenset` is a type of Python object that is immutable. In this lab you can use it just like an array without conversion."
   ]
  },
  {
   "cell_type": "markdown",
   "metadata": {},
   "source": [
    "Next, test your function with supplying `stop_words.ENGLISH_STOP_WORDS` as the second parameter."
   ]
  },
  {
   "cell_type": "code",
   "execution_count": null,
   "metadata": {},
   "outputs": [],
   "source": [
    "bow = get_bow_from_docs(bow, stop_words.ENGLISH_STOP_WORDS)\n",
    "\n",
    "print(bow)"
   ]
  },
  {
   "cell_type": "markdown",
   "metadata": {},
   "source": [
    "You should have seen:\n",
    "\n",
    "```{'bag_of_words': ['ironhack', 'cool', 'love', 'student'], 'term_freq': [[1, 1, 0, 0], [1, 0, 1, 0], [1, 0, 0, 1]]}```"
   ]
  },
  {
   "cell_type": "code",
   "execution_count": null,
   "metadata": {},
   "outputs": [],
   "source": []
  }
 ],
 "metadata": {
  "kernelspec": {
   "name": "python391jvsc74a57bd0376f5b0795f81aa7b5d99e448d6274743a66c9892fd26cf11e505993f41df5fa",
   "display_name": "Python 3.9.1 64-bit"
  },
  "language_info": {
   "codemirror_mode": {
    "name": "ipython",
    "version": 3
   },
   "file_extension": ".py",
   "mimetype": "text/x-python",
   "name": "python",
   "nbconvert_exporter": "python",
   "pygments_lexer": "ipython3",
   "version": "3.9.1"
  }
 },
 "nbformat": 4,
 "nbformat_minor": 2
}